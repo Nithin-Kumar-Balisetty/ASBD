{
 "cells": [
  {
   "cell_type": "code",
   "execution_count": 1,
   "id": "987f7b32",
   "metadata": {},
   "outputs": [
    {
     "name": "stdout",
     "output_type": "stream",
     "text": [
      "Dataset : \n",
      "     Roll No  Marks\n",
      "0   CSE20D01     33\n",
      "1   CSE20D02     25\n",
      "2   CSE20D03     25\n",
      "3   CSE20D04     27\n",
      "4   CSE20D05     27\n",
      "5   CSE20D06     29\n",
      "6   CSE20D07     29\n",
      "7   CSE20D08     31\n",
      "8   CSE20D09     31\n",
      "9   CSE20D10     33\n",
      "10  CSE20D11     33\n",
      "11  CSE20D12     25\n",
      "12  CSE20D13     25\n",
      "13  CSE20D14     27\n",
      "14  CSE20D15     27\n",
      "15  CSE20D16     29\n",
      "16  CSE20D17     29\n",
      "17  CSE20D18     31\n",
      "\n",
      "Mean : 28.666666666666668\n",
      "Median : 29.0\n"
     ]
    }
   ],
   "source": [
    "import pandas as pd\n",
    "\n",
    "arr=[]\n",
    "for i in range(1,19):\n",
    "    if i%2==0:\n",
    "        arr.append(['CSE20D0'+str(i) , 25+((i+8)%10)]) if int(i/10) == 0 else arr.append(['CSE20D'+str(i) , 25+((i+8)%10)])\n",
    "    else:\n",
    "        arr.append(['CSE20D0'+str(i) , 25+((i+7)%10)]) if int(i/10) == 0 else arr.append(['CSE20D'+str(i) , 25+((i+7)%10)])\n",
    "\n",
    "df = pd.DataFrame(arr,columns=['Roll No','Marks'])\n",
    "\n",
    "print(\"Dataset : \")\n",
    "print(df,end=\"\\n\\n\")\n",
    "\n",
    "print(\"Mean : \"+str(df['Marks'].mean()) )\n",
    "print(\"Median : \"+ str(df['Marks'].median()) )\n"
   ]
  }
 ],
 "metadata": {
  "kernelspec": {
   "display_name": "Python 3 (ipykernel)",
   "language": "python",
   "name": "python3"
  },
  "language_info": {
   "codemirror_mode": {
    "name": "ipython",
    "version": 3
   },
   "file_extension": ".py",
   "mimetype": "text/x-python",
   "name": "python",
   "nbconvert_exporter": "python",
   "pygments_lexer": "ipython3",
   "version": "3.10.1"
  }
 },
 "nbformat": 4,
 "nbformat_minor": 5
}
