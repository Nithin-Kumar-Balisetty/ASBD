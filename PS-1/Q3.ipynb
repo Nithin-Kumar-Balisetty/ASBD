{
 "cells": [
  {
   "cell_type": "code",
   "execution_count": 1,
   "id": "ebd7c9e9",
   "metadata": {},
   "outputs": [
    {
     "name": "stdout",
     "output_type": "stream",
     "text": [
      "X-axis : \n",
      "[78, 69, 71, 7, 93, 68, 89, 46, 87, 45, 22, 65, 86, 13, 97, 67, 85, 20, 75, 90]\n",
      "\n",
      "DataSet(Y-axis) : \n",
      "[159, 141, 145, 17, 189, 139, 181, 95, 177, 93, 47, 133, 175, 29, 197, 137, 173, 43, 153, 183]\n",
      "\n",
      "Standard Deviation : 55.37968941769175\n"
     ]
    }
   ],
   "source": [
    "import statistics\n",
    "import random\n",
    "\n",
    "x_axis = random.sample(range(6,100),20)\n",
    "y_axis = [2*i+3 for i in x_axis]\n",
    "print(\"X-axis : \")\n",
    "print(x_axis,end=\"\\n\\n\")\n",
    "print(\"DataSet(Y-axis) : \")\n",
    "print(y_axis,end=\"\\n\\n\")\n",
    "print(\"Standard Deviation : \"+str(statistics.pstdev(y_axis)))"
   ]
  }
 ],
 "metadata": {
  "kernelspec": {
   "display_name": "Python 3 (ipykernel)",
   "language": "python",
   "name": "python3"
  },
  "language_info": {
   "codemirror_mode": {
    "name": "ipython",
    "version": 3
   },
   "file_extension": ".py",
   "mimetype": "text/x-python",
   "name": "python",
   "nbconvert_exporter": "python",
   "pygments_lexer": "ipython3",
   "version": "3.10.1"
  }
 },
 "nbformat": 4,
 "nbformat_minor": 5
}
