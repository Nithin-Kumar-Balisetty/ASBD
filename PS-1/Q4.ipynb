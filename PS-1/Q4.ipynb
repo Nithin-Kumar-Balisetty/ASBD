{
 "cells": [
  {
   "cell_type": "code",
   "execution_count": 1,
   "id": "68e5903c",
   "metadata": {},
   "outputs": [
    {
     "name": "stdout",
     "output_type": "stream",
     "text": [
      "Mean height : 168.76333333333332\n",
      "Median : 167.65\n",
      "Mode : 167\n",
      "Standard Deviation : 2.5182313017054025\n",
      "Skewness : 0.9684699214981036\n"
     ]
    }
   ],
   "source": [
    "import statistics\n",
    "from scipy.stats import skew\n",
    "heights= [167.65, 167, 172, 175, 165, 167, 168, 167, 167.3, 170, 167.5, 170, 167, 169, 172]\n",
    "print(\"Mean height : \"+str(statistics.mean(heights)))\n",
    "print(\"Median : \"+str(statistics.median(heights)))\n",
    "print(\"Mode : \"+str(statistics.mode(heights)))\n",
    "print(\"Standard Deviation : \"+str(statistics.pstdev(heights)))\n",
    "print(\"Skewness : \"+str(skew(heights)))"
   ]
  }
 ],
 "metadata": {
  "kernelspec": {
   "display_name": "Python 3 (ipykernel)",
   "language": "python",
   "name": "python3"
  },
  "language_info": {
   "codemirror_mode": {
    "name": "ipython",
    "version": 3
   },
   "file_extension": ".py",
   "mimetype": "text/x-python",
   "name": "python",
   "nbconvert_exporter": "python",
   "pygments_lexer": "ipython3",
   "version": "3.10.1"
  }
 },
 "nbformat": 4,
 "nbformat_minor": 5
}
