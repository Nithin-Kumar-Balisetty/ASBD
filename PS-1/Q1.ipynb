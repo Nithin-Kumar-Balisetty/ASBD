{
 "cells": [
  {
   "cell_type": "code",
   "execution_count": 1,
   "id": "597ab380",
   "metadata": {},
   "outputs": [
    {
     "name": "stdout",
     "output_type": "stream",
     "text": [
      "Dataset : \n",
      "[2, 9, 6, 2, 6, 9, 5, 3, 2, 3, 6, 6, 6, 5, 2, 1, 3, 5, 2, 6, 9, 1, 8, 1, 2, 3, 3, 9, 4, 7, 7, 8, 4, 7, 1, 5, 5, 1, 5, 6, 4, 2, 4, 6, 8, 4, 4, 9, 6, 4, 7, 1, 9, 5, 3, 5, 4, 1, 4, 4]\n",
      "\n",
      "Final Result :\n",
      "   Value  Frequency\n",
      "0      2          7\n",
      "1      9          6\n",
      "2      6          9\n",
      "3      5          8\n",
      "4      3          6\n",
      "5      1          7\n",
      "6      8          3\n",
      "7      4         10\n",
      "8      7          4\n"
     ]
    }
   ],
   "source": [
    "import random\n",
    "import collections\n",
    "import pandas as pd\n",
    "\n",
    "testset = random.choices(range(1, 10), k=60)\n",
    "frequencyDict = collections.Counter(testset)\n",
    "df= pd.DataFrame.from_dict({'Value' : frequencyDict.keys() , 'Frequency' : frequencyDict.values()})\n",
    "print(\"Dataset : \")\n",
    "print(testset,end=\"\\n\\n\")\n",
    "print(\"Final Result :\")\n",
    "print(df)\n"
   ]
  }
 ],
 "metadata": {
  "kernelspec": {
   "display_name": "Python 3 (ipykernel)",
   "language": "python",
   "name": "python3"
  },
  "language_info": {
   "codemirror_mode": {
    "name": "ipython",
    "version": 3
   },
   "file_extension": ".py",
   "mimetype": "text/x-python",
   "name": "python",
   "nbconvert_exporter": "python",
   "pygments_lexer": "ipython3",
   "version": "3.10.1"
  }
 },
 "nbformat": 4,
 "nbformat_minor": 5
}
